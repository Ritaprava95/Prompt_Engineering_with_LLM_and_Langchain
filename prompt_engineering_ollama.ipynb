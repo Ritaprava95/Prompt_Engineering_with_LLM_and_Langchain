{
 "cells": [
  {
   "metadata": {
    "ExecuteTime": {
     "end_time": "2025-08-01T04:54:52.389591Z",
     "start_time": "2025-08-01T04:54:30.144432Z"
    }
   },
   "cell_type": "code",
   "source": [
    "import ollama\n",
    "\n",
    "# Chat interaction\n",
    "messages = [\n",
    "    {'role': 'user', 'content': 'Can you provide ways to eat combinations of bananas and dragonfruits?'},\n",
    "]\n",
    "response = ollama.chat('llama3.2:1b', messages=messages)\n",
    "print(response['message']['content'])\n",
    "\n",
    "# Text completion\n",
    "# result = ollama.generate(model='llama3.2:1b', prompt='// A c function to reverse a string\\\\n')\n",
    "# print(result['response'])"
   ],
   "id": "66dd308edce96ab6",
   "outputs": [
    {
     "name": "stdout",
     "output_type": "stream",
     "text": [
      "Combining bananas and dragonfruits can create a delicious and exotic flavor profile. Here are some ideas for eating combinations of these fruits:\n",
      "\n",
      "1. **Banana-Dragonfruit Smoothie**: Blend frozen banana, dragonfruit puree, yogurt, milk, and honey to create a refreshing and healthy smoothie.\n",
      "2. **Grilled Bananas with Dragonfruit Salsa**: Grill sliced bananas until caramelized, then serve with a fresh salsa made from diced dragonfruit, red onion, jalapeño, cilantro, and lime juice.\n",
      "3. **Banana-Dragonfruit Tarts**: Mix cooked banana puree with crushed dragonfruit seeds and a hint of cinnamon. Spoon the mixture into pre-made tart shells for a sweet and tangy dessert.\n",
      "4. **Dragonfruit-Pineapple Salsa**: Combine diced dragonfruit, pineapple, red onion, jalapeño, cilantro, and lime juice to create a spicy and refreshing salsa perfect for topping tacos or grilled meats.\n",
      "5. **Banana-Dragonfruit Oatmeal**: Add sliced bananas and fresh dragonfruit slices to your oatmeal for added sweetness and texture.\n",
      "6. **Dragonfruit-Banana Upside-Down Cake**: Mix cooked banana puree with crushed dragonfruit seeds, brown sugar, and spices. Top a cake batter made from the same mixture and bake until golden brown.\n",
      "7. **Banana-Dragonfruit Chutney**: Cook down fresh bananas and dragonfruits with some onions, ginger, and spices to create a sweet and tangy chutney perfect for serving with grilled meats or as a dip.\n",
      "8. **Dragonfruit-Banana Sorbet**: Blend frozen banana, dragonfruit puree, and lemon juice, then freeze the mixture in an ice cream maker or a metal bowl until set.\n",
      "\n",
      "These are just a few ideas to get you started. Feel free to experiment with different combinations of bananas and dragonfruits to find your favorite flavors!\n"
     ]
    }
   ],
   "execution_count": 1
  }
 ],
 "metadata": {
  "kernelspec": {
   "display_name": "Python 3 (ipykernel)",
   "language": "python",
   "name": "python3"
  },
  "language_info": {
   "codemirror_mode": {
    "name": "ipython",
    "version": 3
   },
   "file_extension": ".py",
   "mimetype": "text/x-python",
   "name": "python",
   "nbconvert_exporter": "python",
   "pygments_lexer": "ipython3",
   "version": "3.8.19"
  }
 },
 "nbformat": 4,
 "nbformat_minor": 5
}
