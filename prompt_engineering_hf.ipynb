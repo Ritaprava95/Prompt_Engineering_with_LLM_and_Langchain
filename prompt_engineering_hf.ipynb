{
 "cells": [
  {
   "metadata": {},
   "cell_type": "markdown",
   "source": "## Loading a hugginface model locally and running prompts",
   "id": "2125538bfdc6b08e"
  },
  {
   "metadata": {
    "ExecuteTime": {
     "end_time": "2025-08-01T05:35:04.858521Z",
     "start_time": "2025-08-01T05:33:47.327173Z"
    }
   },
   "cell_type": "code",
   "source": [
    "import torch\n",
    "from transformers import pipeline\n",
    "\n",
    "model_id = \"meta-llama/Llama-3.2-1B\"\n",
    "\n",
    "pipe = pipeline(\n",
    "    \"text-generation\",\n",
    "    model=model_id,\n",
    "    torch_dtype=torch.bfloat16,\n",
    "    device_map=\"auto\"\n",
    ")\n",
    "generation_args = {\n",
    "    \"max_new_tokens\": 500,\n",
    "    \"return_full_text\": False,\n",
    "    \"temperature\": 0.0,\n",
    "    \"do_sample\": False,\n",
    "}\n",
    "\n",
    "\n",
    "pipe(\"User: Can you provide ways to eat combinations of bananas and dragonfruits?\", **generation_args)"
   ],
   "id": "c76bb05b619ab7aa",
   "outputs": [
    {
     "name": "stderr",
     "output_type": "stream",
     "text": [
      "C:\\Users\\ritap\\anaconda3\\envs\\RAG\\Lib\\site-packages\\accelerate\\utils\\modeling.py:1582: UserWarning: Current model requires 64 bytes of buffer for offloaded layers, which seems does not fit any GPU's remaining memory. If you are experiencing a OOM later, please consider using offload_buffers=True.\n",
      "  warnings.warn(\n",
      "Device set to use cpu\n",
      "The following generation flags are not valid and may be ignored: ['temperature', 'top_p']. Set `TRANSFORMERS_VERBOSITY=info` for more details.\n",
      "Setting `pad_token_id` to `eos_token_id`:128001 for open-end generation.\n"
     ]
    },
    {
     "data": {
      "text/plain": [
       "[{'generated_text': ' I have a lot of dragonfruits and I want to use them in a recipe. I have a lot of bananas and I want to use them in a recipe. I have a lot of dragonfruits and I want to use them in a recipe. I have a lot of bananas and I want to use them in a recipe. I have a lot of dragonfruits and I want to use them in a recipe. I have a lot of bananas and I want to use them in a recipe. I have a lot of dragonfruits and I want to use them in a recipe. I have a lot of bananas and I want to use them in a recipe. I have a lot of dragonfruits and I want to use them in a recipe. I have a lot of bananas and I want to use them in a recipe. I have a lot of dragonfruits and I want to use them in a recipe. I have a lot of bananas and I want to use them in a recipe. I have a lot of dragonfruits and I want to use them in a recipe. I have a lot of bananas and I want to use them in a recipe. I have a lot of dragonfruits and I want to use them in a recipe. I have a lot of bananas and I want to use them in a recipe. I have a lot of dragonfruits and I want to use them in a recipe. I have a lot of bananas and I want to use them in a recipe. I have a lot of dragonfruits and I want to use them in a recipe. I have a lot of bananas and I want to use them in a recipe. I have a lot of dragonfruits and I want to use them in a recipe. I have a lot of bananas and I want to use them in a recipe. I have a lot of dragonfruits and I want to use them in a recipe. I have a lot of bananas and I want to use them in a recipe. I have a lot of dragonfruits and I want to use them in a recipe. I have a lot of bananas and I want to use them in a recipe. I have a lot of dragonfruits and I want to use them in a recipe. I have a lot of bananas and I want to use them in a recipe. I have a lot of dragonfruits and I want to use them in a recipe. I have a lot of bananas'}]"
      ]
     },
     "execution_count": 4,
     "metadata": {},
     "output_type": "execute_result"
    }
   ],
   "execution_count": 4
  },
  {
   "metadata": {
    "ExecuteTime": {
     "end_time": "2025-08-01T05:40:20.301976Z",
     "start_time": "2025-08-01T05:36:21.971702Z"
    }
   },
   "cell_type": "code",
   "source": [
    "import torch\n",
    "from transformers import pipeline\n",
    "\n",
    "model_id = \"microsoft/Phi-3-mini-4k-instruct\"\n",
    "\n",
    "pipe = pipeline(\n",
    "    \"text-generation\",\n",
    "    model=model_id,\n",
    "    torch_dtype=torch.bfloat16,\n",
    "    device_map=\"auto\"\n",
    ")\n",
    "generation_args = {\n",
    "    \"max_new_tokens\": 500,\n",
    "    \"return_full_text\": False,\n",
    "    \"temperature\": 0.0,\n",
    "    \"do_sample\": False,\n",
    "}\n",
    "\n",
    "\n",
    "pipe(\"User: Can you provide ways to eat combinations of bananas and dragonfruits?\", **generation_args)"
   ],
   "id": "35c7027642e4b41f",
   "outputs": [
    {
     "name": "stderr",
     "output_type": "stream",
     "text": [
      "C:\\Users\\ritap\\anaconda3\\envs\\RAG\\Lib\\site-packages\\accelerate\\utils\\modeling.py:1582: UserWarning: Current model requires 96 bytes of buffer for offloaded layers, which seems does not fit any GPU's remaining memory. If you are experiencing a OOM later, please consider using offload_buffers=True.\n",
      "  warnings.warn(\n"
     ]
    },
    {
     "data": {
      "text/plain": [
       "Loading checkpoint shards:   0%|          | 0/2 [00:00<?, ?it/s]"
      ],
      "application/vnd.jupyter.widget-view+json": {
       "version_major": 2,
       "version_minor": 0,
       "model_id": "f00a41ea44fb4f23a25d9f29c568af5e"
      }
     },
     "metadata": {},
     "output_type": "display_data"
    },
    {
     "name": "stderr",
     "output_type": "stream",
     "text": [
      "Device set to use cpu\n",
      "The following generation flags are not valid and may be ignored: ['temperature']. Set `TRANSFORMERS_VERBOSITY=info` for more details.\n"
     ]
    },
    {
     "data": {
      "text/plain": [
       "[{'generated_text': '\\n\\nAssistant: Certainly! Here are some creative and delicious ways to enjoy bananas and dragonfruits together:\\n\\n1. Dragon Fruit Smoothie Bowl:\\n   - Blend together 1 ripe banana, 1/2 cup of dragon fruit, 1/2 cup of almond milk, and a handful of ice until smooth.\\n   - Pour the mixture into a bowl and top with sliced bananas, dragon fruit cubes, granola, and a drizzle of honey or agave syrup.\\n\\n2. Banana Dragon Fruit Parfait:\\n   - Layer sliced bananas, dragon fruit cubes, and Greek yogurt in a glass.\\n   - Repeat the layers until the glass is filled.\\n   - Top with a sprinkle of chia seeds or coconut flakes for added texture and nutrition.\\n\\n3. Dragon Fruit Banana Salad:\\n   - Slice a ripe banana and a dragon fruit into bite-sized pieces.\\n   - Toss them together with a handful of mixed greens, such as baby spinach or arugula.\\n   - Drizzle with a simple dressing made from olive oil, lemon juice, salt, and pepper.\\n\\n4. Banana Dragon Fruit Salsa:\\n   - Dice a ripe banana and a dragon fruit into small cubes.\\n   - Mix them with diced red onion, cilantro, lime juice, and a pinch of salt.\\n   - Serve as a topping for grilled chicken, fish, or as a side dish with tortilla chips.\\n\\n5. Dragon Fruit Banana Ice Cream:\\n   - Blend together 2 ripe bananas, 1/2 cup of dragon fruit, and 1/4 cup of coconut milk until smooth.\\n   - Pour the mixture into a freezer-safe container and freeze for at least 2 hours.\\n   - Once frozen, scoop the ice cream into bowls and serve with a drizzle of honey or a sprinkle of cinnamon.\\n\\n6.'}]"
      ]
     },
     "execution_count": 5,
     "metadata": {},
     "output_type": "execute_result"
    }
   ],
   "execution_count": 5
  },
  {
   "metadata": {
    "collapsed": true,
    "ExecuteTime": {
     "end_time": "2025-08-01T05:41:58.006192Z",
     "start_time": "2025-08-01T05:41:58.000784Z"
    }
   },
   "cell_type": "code",
   "source": [
    "# import torch\n",
    "# from transformers import AutoModelForCausalLM, AutoTokenizer, pipeline\n",
    "#\n",
    "# torch.random.manual_seed(0)\n",
    "# model = AutoModelForCausalLM.from_pretrained(\n",
    "#     \"microsoft/Phi-3-mini-4k-instruct\",\n",
    "#     device_map=\"cuda\",\n",
    "#     torch_dtype=\"auto\",\n",
    "#     # trust_remote_code=True,\n",
    "# )\n",
    "#\n",
    "# tokenizer = AutoTokenizer.from_pretrained(\"microsoft/Phi-3-mini-4k-instruct\")\n",
    "#\n",
    "# messages = [\n",
    "#     {\"role\": \"system\", \"content\": \"You are a helpful AI assistant.\"},\n",
    "#     {\"role\": \"user\", \"content\": \"Can you provide ways to eat combinations of bananas and dragonfruits?\"},\n",
    "#     {\"role\": \"assistant\", \"content\": \"Sure! Here are some ways to eat bananas and dragonfruits together: 1. Banana and dragonfruit smoothie: Blend bananas and dragonfruits together with some milk and honey. 2. Banana and dragonfruit salad: Mix sliced bananas and dragonfruits together with some lemon juice and honey.\"},\n",
    "#     {\"role\": \"user\", \"content\": \"What about solving an 2x + 3 = 7 equation?\"},\n",
    "# ]\n",
    "#\n",
    "# # messages = tokenizer.apply_chat_template(messages, tokenize=False, add_generation_prompt=True)\n",
    "# # print(messages)\n",
    "#\n",
    "# pipe = pipeline(\n",
    "#     \"text-generation\",\n",
    "#     model=model,\n",
    "#     tokenizer=tokenizer,\n",
    "# )\n",
    "#\n",
    "# generation_args = {\n",
    "#     \"max_new_tokens\": 500,\n",
    "#     \"return_full_text\": False,\n",
    "#     \"temperature\": 0.0,\n",
    "#     \"do_sample\": False,\n",
    "# }\n",
    "#\n",
    "# output = pipe(messages, **generation_args)\n",
    "# print(output[0]['generated_text'])\n"
   ],
   "id": "initial_id",
   "outputs": [],
   "execution_count": 6
  },
  {
   "metadata": {
    "ExecuteTime": {
     "end_time": "2025-08-01T05:05:05.849669Z",
     "start_time": "2025-08-01T05:05:05.843347Z"
    }
   },
   "cell_type": "code",
   "source": "tokenizer.chat_template",
   "id": "d5b72aa2626aaa88",
   "outputs": [],
   "execution_count": 3
  }
 ],
 "metadata": {
  "kernelspec": {
   "display_name": "Python 3",
   "language": "python",
   "name": "python3"
  },
  "language_info": {
   "codemirror_mode": {
    "name": "ipython",
    "version": 2
   },
   "file_extension": ".py",
   "mimetype": "text/x-python",
   "name": "python",
   "nbconvert_exporter": "python",
   "pygments_lexer": "ipython2",
   "version": "2.7.6"
  }
 },
 "nbformat": 4,
 "nbformat_minor": 5
}
