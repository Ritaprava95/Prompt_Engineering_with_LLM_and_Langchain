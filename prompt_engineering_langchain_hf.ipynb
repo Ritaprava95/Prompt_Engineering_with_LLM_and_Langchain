{
 "cells": [
  {
   "metadata": {},
   "cell_type": "markdown",
   "source": "## Loading hf model via lanchain and running prompts",
   "id": "b581ea58d7498bfa"
  },
  {
   "cell_type": "code",
   "id": "initial_id",
   "metadata": {
    "collapsed": true,
    "ExecuteTime": {
     "end_time": "2025-07-29T06:38:11.997093Z",
     "start_time": "2025-07-29T06:38:11.990860Z"
    }
   },
   "source": [
    "# from langchain_huggingface import ChatHuggingFace #to use huggingface llm class directly\n",
    "# from langchain_huggingface import HuggingFaceEndpoint #to run models serverless manner\n",
    "# from langchain_huggingface import HuggingFacePipeline #to run models locally\n",
    "# from langchain_huggingface import HuggingFaceEmbeddings #to run embedding model through dedicated endpoints\n",
    "# from langchain_community.embeddings import HuggingFaceInferenceAPIEmbeddings #to run embedding models serverless manner\n",
    "# from langchain_huggingface import HuggingFaceEmbeddings #to run embedding models locally\n",
    "# from langchain_community.embeddings import HuggingFaceInstructEmbeddings #to run embedding models locally\n",
    "# from langchain_community.embeddings import HuggingFaceBgeEmbeddings #to run bge embedding model"
   ],
   "outputs": [],
   "execution_count": 1
  },
  {
   "metadata": {
    "ExecuteTime": {
     "end_time": "2025-07-30T09:32:11.796428Z",
     "start_time": "2025-07-30T09:32:10.812887Z"
    }
   },
   "cell_type": "code",
   "source": [
    "from huggingface_hub import login\n",
    "login() # You will be prompted for your HF key, which will then be saved locally"
   ],
   "id": "a772fb734478e6a1",
   "outputs": [
    {
     "data": {
      "text/plain": [
       "VBox(children=(HTML(value='<center> <img\\nsrc=https://huggingface.co/front/assets/huggingface_logo-noborder.sv…"
      ],
      "application/vnd.jupyter.widget-view+json": {
       "version_major": 2,
       "version_minor": 0,
       "model_id": "1f5f79eabfeb4a258f19b422f5bab6b7"
      }
     },
     "metadata": {},
     "output_type": "display_data"
    }
   ],
   "execution_count": 1
  },
  {
   "metadata": {},
   "cell_type": "markdown",
   "source": "### Checking cuda memory details",
   "id": "11eb4701197bfc0"
  },
  {
   "metadata": {
    "ExecuteTime": {
     "end_time": "2025-07-30T09:32:47.517290Z",
     "start_time": "2025-07-30T09:32:47.509778Z"
    }
   },
   "cell_type": "code",
   "source": [
    "import torch\n",
    "device = torch.device(\"cuda\" if torch.cuda.is_available() else \"cpu\")\n",
    "if device.type == \"cuda\":\n",
    "    total_memory = torch.cuda.get_device_properties(device).total_memory\n",
    "    print(f\"Total CUDA memory: {total_memory / (1024**3):.2f} GB\")"
   ],
   "id": "2f8f1082cfc3b21d",
   "outputs": [
    {
     "name": "stdout",
     "output_type": "stream",
     "text": [
      "Total CUDA memory: 4.00 GB\n"
     ]
    }
   ],
   "execution_count": 4
  },
  {
   "metadata": {
    "ExecuteTime": {
     "end_time": "2025-07-30T09:32:45.493019Z",
     "start_time": "2025-07-30T09:32:45.487072Z"
    }
   },
   "cell_type": "code",
   "source": [
    "# import torch\n",
    "# device = torch.device(\"cuda\" if torch.cuda.is_available() else \"cpu\")\n",
    "# if device.type == \"cuda\":\n",
    "#     allocated_memory = torch.cuda.memory_allocated(device)\n",
    "#     print(f\"Allocated CUDA memory: {allocated_memory / (1024**3):.2f} GB\")"
   ],
   "id": "a01d3f7e1c9295d6",
   "outputs": [],
   "execution_count": 3
  },
  {
   "metadata": {
    "ExecuteTime": {
     "end_time": "2025-07-30T09:32:49.904240Z",
     "start_time": "2025-07-30T09:32:49.899329Z"
    }
   },
   "cell_type": "code",
   "source": [
    "# def print_gpu_memory():\n",
    "#     print(f\"Allocated memory: {torch.cuda.memory_allocated() / 1024**2:.2f} MB\")\n",
    "#     print(f\"Cached memory: {torch.cuda.memory_reserved() / 1024**2:.2f} MB\")\n",
    "# print_gpu_memory()"
   ],
   "id": "35f8fc4e615f0826",
   "outputs": [],
   "execution_count": 5
  },
  {
   "metadata": {
    "ExecuteTime": {
     "end_time": "2025-07-30T09:32:52.342724Z",
     "start_time": "2025-07-30T09:32:52.336795Z"
    }
   },
   "cell_type": "code",
   "source": "torch.cuda.empty_cache()",
   "id": "c9bcb040df85ebfa",
   "outputs": [],
   "execution_count": 6
  },
  {
   "metadata": {
    "ExecuteTime": {
     "end_time": "2025-07-30T09:32:58.083147Z",
     "start_time": "2025-07-30T09:32:58.067041Z"
    }
   },
   "cell_type": "code",
   "source": [
    "# del llm\n",
    "# del data"
   ],
   "id": "b637d437557d58ac",
   "outputs": [],
   "execution_count": 7
  },
  {
   "metadata": {},
   "cell_type": "markdown",
   "source": "## Load a small hf llm",
   "id": "78e9258549b35074"
  },
  {
   "metadata": {
    "ExecuteTime": {
     "end_time": "2025-07-30T09:35:04.298586Z",
     "start_time": "2025-07-30T09:34:58.593268Z"
    }
   },
   "cell_type": "code",
   "source": [
    "# bigger model with more params\n",
    "from langchain_huggingface import HuggingFacePipeline\n",
    "import torch # Still needed for device settings if not using default CPU\n",
    "\n",
    "torch.cuda.empty_cache()\n",
    "\n",
    "llm = HuggingFacePipeline.from_model_id(\n",
    "    model_id=\"meta-llama/Llama-3.2-1B\", #\"mistralai/Mistral-7B-Instruct-v0.2\",\n",
    "    task=\"text-generation\",\n",
    "    # device_map=\"auto\", # ['auto', 'cuda', 'cpu']\n",
    "    # torch_dtype=torch.bfloat16, # For memory efficiency\n",
    "    pipeline_kwargs={\n",
    "        \"max_new_tokens\": 500,\n",
    "        \"do_sample\": True,\n",
    "        \"temperature\": 0.1,\n",
    "        # \"top_p\": 0.9,\n",
    "        # \"top_k\": 20,\n",
    "        # \"repetition_penalty\": 1.1,\n",
    "        # For Phi-3: \"trust_remote_code\": True, # This might go into model_kwargs if not directly supported by pipeline_kwargs\n",
    "    },\n",
    "    # model_kwargs={\"trust_remote_code\": True},\n",
    ")"
   ],
   "id": "4a10d7462645c898",
   "outputs": [
    {
     "name": "stderr",
     "output_type": "stream",
     "text": [
      "Device set to use cuda:0\n"
     ]
    }
   ],
   "execution_count": 9
  },
  {
   "metadata": {
    "ExecuteTime": {
     "end_time": "2025-07-30T16:21:09.004701Z",
     "start_time": "2025-07-30T16:14:00.325211Z"
    }
   },
   "cell_type": "code",
   "source": "llm.invoke(\"Recommend some good movies.\")",
   "id": "28047dc3ec7cb21b",
   "outputs": [
    {
     "data": {
      "text/plain": [
       "\"Recommend some good movies. I'm a big fan of the Star Wars series, but I'm not sure if I want to watch them again. I'm also a big fan of the Lord of the Rings series, but I'm not sure if I want to watch them again. I'm also a big fan of the Harry Potter series, but I'm not sure if I want to watch them again. I'm also a big fan of the Twilight series, but I'm not sure if I want to watch them again. I'm also a big fan of the Hunger Games series, but I'm not sure if I want to watch them again. I'm also a big fan of the Divergent series, but I'm not sure if I want to watch them again. I'm also a big fan of the Maze Runner series, but I'm not sure if I want to watch them again. I'm also a big fan of the Maze Runner series, but I'm not sure if I want to watch them again. I'm also a big fan of the Maze Runner series, but I'm not sure if I want to watch them again. I'm also a big fan of the Maze Runner series, but I'm not sure if I want to watch them again. I'm also a big fan of the Maze Runner series, but I'm not sure if I want to watch them again. I'm also a big fan of the Maze Runner series, but I'm not sure if I want to watch them again. I'm also a big fan of the Maze Runner series, but I'm not sure if I want to watch them again. I'm also a big fan of the Maze Runner series, but I'm not sure if I want to watch them again. I'm also a big fan of the Maze Runner series, but I'm not sure if I want to watch them again. I'm also a big fan of the Maze Runner series, but I'm not sure if I want to watch them again. I'm also a big fan of the Maze Runner series, but I'm not sure if I want to watch them again. I'm also a big fan of the Maze Runner series, but I'm not sure if I want to watch them again. I'm also a big fan of the Maze Runner series, but I'm not sure if I want to watch them again. I'm also a big fan of the Maze Runner series, but I'm not sure if I want to watch them again\""
      ]
     },
     "execution_count": 12,
     "metadata": {},
     "output_type": "execute_result"
    }
   ],
   "execution_count": 12
  },
  {
   "metadata": {},
   "cell_type": "markdown",
   "source": "### Making of prompt",
   "id": "9d3903b05eb710c"
  },
  {
   "metadata": {
    "ExecuteTime": {
     "end_time": "2025-07-30T17:16:30.733244Z",
     "start_time": "2025-07-30T17:16:30.716036Z"
    }
   },
   "cell_type": "code",
   "source": [
    "from langchain.prompts import SystemMessagePromptTemplate, HumanMessagePromptTemplate, AIMessagePromptTemplate, PromptTemplate\n",
    "\n",
    "# Defining the system prompt (how the AI should act)\n",
    "system_prompt = SystemMessagePromptTemplate.from_template(\n",
    "    \"You are an AI assistant to summarize articles.\"\n",
    ")\n",
    "\n",
    "# the user prompt is provided by the user, in this case however the only dynamic\n",
    "# input is the article\n",
    "user_prompt = HumanMessagePromptTemplate.from_template(\n",
    "    \"\"\"Summarize the below article within:- \\n {title} \\n {article} \"\"\",\n",
    "    input_variables=[\"title\", \"article\"]\n",
    ")\n",
    "ai_prompt = AIMessagePromptTemplate.from_template(\"\")"
   ],
   "id": "ba3c4ce896433c6d",
   "outputs": [],
   "execution_count": 26
  },
  {
   "metadata": {
    "ExecuteTime": {
     "end_time": "2025-07-30T17:02:30.823526Z",
     "start_time": "2025-07-30T17:02:30.408392Z"
    }
   },
   "cell_type": "code",
   "source": [
    "import pandas as pd\n",
    "data = pd.read_csv(\"..\\data\\Articles.csv\", encoding='latin-1')\n",
    "title = data.loc[0, 'Heading']\n",
    "article = data.loc[0, 'Article']"
   ],
   "id": "e88e89f89b567559",
   "outputs": [],
   "execution_count": 16
  },
  {
   "metadata": {
    "ExecuteTime": {
     "end_time": "2025-07-30T17:16:32.921547Z",
     "start_time": "2025-07-30T17:16:32.915507Z"
    }
   },
   "cell_type": "code",
   "source": "print(user_prompt.format(title=title.strip(), article=article.strip()))",
   "id": "b96361b32336638f",
   "outputs": [
    {
     "name": "stdout",
     "output_type": "stream",
     "text": [
      "content='Summarize the below article within:- \\n sindh govt decides to cut public transport fares by 7pc kti rej \\n KARACHI: The Sindh government has decided to bring down public transport fares by 7 per cent due to massive reduction in petroleum product prices by the federal government, Geo News reported.Sources said reduction in fares will be applicable on public transport, rickshaw, taxi and other means of traveling.Meanwhile, Karachi Transport Ittehad (KTI) has refused to abide by the government decision.KTI President Irshad Bukhari said the commuters are charged the lowest fares in Karachi as compare to other parts of the country, adding that 80pc vehicles run on Compressed Natural Gas (CNG). Bukhari said Karachi transporters will cut fares when decrease in CNG prices will be made. ' additional_kwargs={} response_metadata={}\n"
     ]
    }
   ],
   "execution_count": 27
  },
  {
   "metadata": {
    "ExecuteTime": {
     "end_time": "2025-07-30T18:08:07.073417Z",
     "start_time": "2025-07-30T18:08:07.061810Z"
    }
   },
   "cell_type": "code",
   "source": [
    "from langchain.prompts import ChatPromptTemplate\n",
    "prompt = ChatPromptTemplate.from_messages([system_prompt, user_prompt, ai_prompt])\n",
    "\n",
    "prompt.format(title=title.strip(), article=article.strip())"
   ],
   "id": "92949ea106e3cc5",
   "outputs": [
    {
     "data": {
      "text/plain": [
       "'System: You are an AI assistant to summarize articles.\\nHuman: Summarize the below article within:- \\n sindh govt decides to cut public transport fares by 7pc kti rej \\n KARACHI: The Sindh government has decided to bring down public transport fares by 7 per cent due to massive reduction in petroleum product prices by the federal government, Geo News reported.Sources said reduction in fares will be applicable on public transport, rickshaw, taxi and other means of traveling.Meanwhile, Karachi Transport Ittehad (KTI) has refused to abide by the government decision.KTI President Irshad Bukhari said the commuters are charged the lowest fares in Karachi as compare to other parts of the country, adding that 80pc vehicles run on Compressed Natural Gas (CNG). Bukhari said Karachi transporters will cut fares when decrease in CNG prices will be made. \\nAI: '"
      ]
     },
     "execution_count": 45,
     "metadata": {},
     "output_type": "execute_result"
    }
   ],
   "execution_count": 45
  },
  {
   "metadata": {
    "ExecuteTime": {
     "end_time": "2025-07-30T18:30:14.567805Z",
     "start_time": "2025-07-30T18:22:44.654506Z"
    }
   },
   "cell_type": "code",
   "source": [
    "prompt_text = prompt.format(title=title.strip(), article=article.strip())\n",
    "llm.invoke(prompt_text)"
   ],
   "id": "1e5403965fba469b",
   "outputs": [
    {
     "data": {
      "text/plain": [
       "'System: You are an AI assistant to summarize articles.\\nHuman: Summarize the below article within:- \\n sindh govt decides to cut public transport fares by 7pc kti rej \\n KARACHI: The Sindh government has decided to bring down public transport fares by 7 per cent due to massive reduction in petroleum product prices by the federal government, Geo News reported.Sources said reduction in fares will be applicable on public transport, rickshaw, taxi and other means of traveling.Meanwhile, Karachi Transport Ittehad (KTI) has refused to abide by the government decision.KTI President Irshad Bukhari said the commuters are charged the lowest fares in Karachi as compare to other parts of the country, adding that 80pc vehicles run on Compressed Natural Gas (CNG). Bukhari said Karachi transporters will cut fares when decrease in CNG prices will be made. \\nAI: 7pc fare cut for public transport in Sindh\\nAI: 7pc fare cut for public transport in Sindh\\nAI: 7pc fare cut for public transport in Sindh\\nAI: 7pc fare cut for public transport in Sindh\\nAI: 7pc fare cut for public transport in Sindh\\nAI: 7pc fare cut for public transport in Sindh\\nAI: 7pc fare cut for public transport in Sindh\\nAI: 7pc fare cut for public transport in Sindh\\nAI: 7pc fare cut for public transport in Sindh\\nAI: 7pc fare cut for public transport in Sindh\\nAI: 7pc fare cut for public transport in Sindh\\nAI: 7pc fare cut for public transport in Sindh\\nAI: 7pc fare cut for public transport in Sindh\\nAI: 7pc fare cut for public transport in Sindh\\nAI: 7pc fare cut for public transport in Sindh\\nAI: 7pc fare cut for public transport in Sindh\\nAI: 7pc fare cut for public transport in Sindh\\nAI: 7pc fare cut for public transport in Sindh\\nAI: 7pc fare cut for public transport in Sindh\\nAI: 7pc fare cut for public transport in Sindh\\nAI: 7pc fare cut for public transport in Sindh\\nAI: 7pc fare cut for public transport in Sindh\\nAI: 7pc fare cut for public transport in Sindh\\nAI: 7pc fare cut for public transport in Sindh\\nAI: 7pc fare cut for public transport in Sindh\\nAI: 7pc fare cut for public transport in Sindh\\nAI: 7pc fare cut for public transport in Sindh\\nAI: 7pc fare cut for public transport in Sindh\\nAI: 7pc fare cut for public transport in Sindh\\nAI: 7pc fare cut for public transport in Sindh\\nAI: 7pc fare cut for public transport in Sindh\\nAI: 7pc fare cut for public transport in Sindh\\nAI: 7pc fare cut for public transport in Sindh\\nAI: 7pc fare cut for public transport in Sindh\\nAI: 7pc fare cut for public transport in Sindh\\nAI: 7pc fare cut for public transport in Sindh'"
      ]
     },
     "execution_count": 49,
     "metadata": {},
     "output_type": "execute_result"
    }
   ],
   "execution_count": 49
  },
  {
   "metadata": {
    "ExecuteTime": {
     "end_time": "2025-07-30T18:41:43.388743Z",
     "start_time": "2025-07-30T18:34:10.696241Z"
    }
   },
   "cell_type": "code",
   "source": [
    "# chain\n",
    "summarizer_chain = prompt | llm\n",
    "summarizer_chain.invoke({'title': title.strip(), 'article': article.strip()})"
   ],
   "id": "7cb93fe1c2367bc6",
   "outputs": [
    {
     "data": {
      "text/plain": [
       "'System: You are an AI assistant to summarize articles.\\nHuman: Summarize the below article within:- \\n sindh govt decides to cut public transport fares by 7pc kti rej \\n KARACHI: The Sindh government has decided to bring down public transport fares by 7 per cent due to massive reduction in petroleum product prices by the federal government, Geo News reported.Sources said reduction in fares will be applicable on public transport, rickshaw, taxi and other means of traveling.Meanwhile, Karachi Transport Ittehad (KTI) has refused to abide by the government decision.KTI President Irshad Bukhari said the commuters are charged the lowest fares in Karachi as compare to other parts of the country, adding that 80pc vehicles run on Compressed Natural Gas (CNG). Bukhari said Karachi transporters will cut fares when decrease in CNG prices will be made. \\nAI: 7pc reduction in fares\\nAI: 7pc reduction in fares\\nAI: 7pc reduction in fares\\nAI: 7pc reduction in fares\\nAI: 7pc reduction in fares\\nAI: 7pc reduction in fares\\nAI: 7pc reduction in fares\\nAI: 7pc reduction in fares\\nAI: 7pc reduction in fares\\nAI: 7pc reduction in fares\\nAI: 7pc reduction in fares\\nAI: 7pc reduction in fares\\nAI: 7pc reduction in fares\\nAI: 7pc reduction in fares\\nAI: 7pc reduction in fares\\nAI: 7pc reduction in fares\\nAI: 7pc reduction in fares\\nAI: 7pc reduction in fares\\nAI: 7pc reduction in fares\\nAI: 7pc reduction in fares\\nAI: 7pc reduction in fares\\nAI: 7pc reduction in fares\\nAI: 7pc reduction in fares\\nAI: 7pc reduction in fares\\nAI: 7pc reduction in fares\\nAI: 7pc reduction in fares\\nAI: 7pc reduction in fares\\nAI: 7pc reduction in fares\\nAI: 7pc reduction in fares\\nAI: 7pc reduction in fares\\nAI: 7pc reduction in fares\\nAI: 7pc reduction in fares\\nAI: 7pc reduction in fares\\nAI: 7pc reduction in fares\\nAI: 7pc reduction in fares\\nAI: 7pc reduction in fares\\nAI: 7pc reduction in fares\\nAI: 7pc reduction in fares\\nAI: 7pc reduction in fares\\nAI: 7pc reduction in fares\\nAI: 7pc reduction in fares\\nAI: 7pc reduction in fares\\nAI: 7pc reduction in fares\\nAI: 7pc reduction in fares\\nAI: 7pc reduction in fares\\nAI: 7pc reduction in fares\\nAI: 7pc reduction in fares\\nAI: 7pc reduction in fares\\nAI: 7pc reduction in fares\\nAI: 7pc reduction in fares\\nAI: 7pc reduction in fares\\nAI: 7pc reduction in fares\\nAI: 7pc reduction in fares\\nAI: 7pc reduction in fares\\nAI: 7pc reduction in fares\\nAI: 7pc reduction in fares'"
      ]
     },
     "execution_count": 51,
     "metadata": {},
     "output_type": "execute_result"
    }
   ],
   "execution_count": 51
  },
  {
   "metadata": {},
   "cell_type": "code",
   "outputs": [],
   "execution_count": null,
   "source": "",
   "id": "c29dbf5107695001"
  },
  {
   "metadata": {},
   "cell_type": "code",
   "outputs": [],
   "execution_count": null,
   "source": "",
   "id": "7b5e7bfaf737ade8"
  }
 ],
 "metadata": {
  "kernelspec": {
   "display_name": "Python 3",
   "language": "python",
   "name": "python3"
  },
  "language_info": {
   "codemirror_mode": {
    "name": "ipython",
    "version": 2
   },
   "file_extension": ".py",
   "mimetype": "text/x-python",
   "name": "python",
   "nbconvert_exporter": "python",
   "pygments_lexer": "ipython2",
   "version": "2.7.6"
  }
 },
 "nbformat": 4,
 "nbformat_minor": 5
}
